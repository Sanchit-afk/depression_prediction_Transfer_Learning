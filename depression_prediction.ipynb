{
 "cells": [
  {
   "cell_type": "code",
   "execution_count": 2,
   "metadata": {},
   "outputs": [],
   "source": [
    "import texthero as hero"
   ]
  },
  {
   "cell_type": "code",
   "execution_count": 3,
   "metadata": {},
   "outputs": [],
   "source": [
    "import pandas as pd"
   ]
  },
  {
   "cell_type": "code",
   "execution_count": 7,
   "metadata": {},
   "outputs": [],
   "source": [
    "from sentence_transformers import SentenceTransformer\n",
    "model = SentenceTransformer('paraphrase-MiniLM-L6-v2')"
   ]
  },
  {
   "cell_type": "code",
   "execution_count": 1,
   "metadata": {},
   "outputs": [],
   "source": [
    "import pickle\n",
    "# load the model from disk\n",
    "svm_classifier = pickle.load(open('depression_model.sav', 'rb'))"
   ]
  },
  {
   "cell_type": "code",
   "execution_count": 2,
   "metadata": {},
   "outputs": [
    {
     "data": {
      "text/html": [
       "<div>\n",
       "<style scoped>\n",
       "    .dataframe tbody tr th:only-of-type {\n",
       "        vertical-align: middle;\n",
       "    }\n",
       "\n",
       "    .dataframe tbody tr th {\n",
       "        vertical-align: top;\n",
       "    }\n",
       "\n",
       "    .dataframe thead th {\n",
       "        text-align: right;\n",
       "    }\n",
       "</style>\n",
       "<table border=\"1\" class=\"dataframe\">\n",
       "  <thead>\n",
       "    <tr style=\"text-align: right;\">\n",
       "      <th></th>\n",
       "      <th>sample</th>\n",
       "      <th>clean_data</th>\n",
       "    </tr>\n",
       "  </thead>\n",
       "  <tbody>\n",
       "    <tr>\n",
       "      <th>0</th>\n",
       "      <td>i was feeling low and listening to sad songs m...</td>\n",
       "      <td>feeling low listening sad songs made depressed...</td>\n",
       "    </tr>\n",
       "    <tr>\n",
       "      <th>1</th>\n",
       "      <td>Nothing makes me happy anymore. Cannot find co...</td>\n",
       "      <td>nothing makes happy anymore cannot find comfor...</td>\n",
       "    </tr>\n",
       "    <tr>\n",
       "      <th>2</th>\n",
       "      <td>My hair is ruining my life!!!!!!</td>\n",
       "      <td>hair ruining life</td>\n",
       "    </tr>\n",
       "    <tr>\n",
       "      <th>3</th>\n",
       "      <td>i am very happy about it</td>\n",
       "      <td>happy</td>\n",
       "    </tr>\n",
       "    <tr>\n",
       "      <th>4</th>\n",
       "      <td>I feel frantic all the time</td>\n",
       "      <td>feel frantic time</td>\n",
       "    </tr>\n",
       "    <tr>\n",
       "      <th>5</th>\n",
       "      <td>I have always been encouraged to pursue what i...</td>\n",
       "      <td>always encouraged pursue like always made feel...</td>\n",
       "    </tr>\n",
       "    <tr>\n",
       "      <th>6</th>\n",
       "      <td>i dont stress about it a lot</td>\n",
       "      <td>dont stress lot</td>\n",
       "    </tr>\n",
       "    <tr>\n",
       "      <th>7</th>\n",
       "      <td>My family is very supportive but despite that ...</td>\n",
       "      <td>family supportive despite lack motivation make...</td>\n",
       "    </tr>\n",
       "    <tr>\n",
       "      <th>8</th>\n",
       "      <td>I dont think drugs are a good idea to solve pr...</td>\n",
       "      <td>dont think drugs good idea solve problems occa...</td>\n",
       "    </tr>\n",
       "    <tr>\n",
       "      <th>9</th>\n",
       "      <td>I dont know whats wrong with me. My emotions f...</td>\n",
       "      <td>dont know whats wrong emotions fluctuate time ...</td>\n",
       "    </tr>\n",
       "  </tbody>\n",
       "</table>\n",
       "</div>"
      ],
      "text/plain": [
       "                                              sample  \\\n",
       "0  i was feeling low and listening to sad songs m...   \n",
       "1  Nothing makes me happy anymore. Cannot find co...   \n",
       "2                   My hair is ruining my life!!!!!!   \n",
       "3                           i am very happy about it   \n",
       "4                        I feel frantic all the time   \n",
       "5  I have always been encouraged to pursue what i...   \n",
       "6                       i dont stress about it a lot   \n",
       "7  My family is very supportive but despite that ...   \n",
       "8  I dont think drugs are a good idea to solve pr...   \n",
       "9  I dont know whats wrong with me. My emotions f...   \n",
       "\n",
       "                                          clean_data  \n",
       "0  feeling low listening sad songs made depressed...  \n",
       "1  nothing makes happy anymore cannot find comfor...  \n",
       "2                                  hair ruining life  \n",
       "3                                              happy  \n",
       "4                                  feel frantic time  \n",
       "5  always encouraged pursue like always made feel...  \n",
       "6                                    dont stress lot  \n",
       "7  family supportive despite lack motivation make...  \n",
       "8  dont think drugs good idea solve problems occa...  \n",
       "9  dont know whats wrong emotions fluctuate time ...  "
      ]
     },
     "execution_count": 2,
     "metadata": {},
     "output_type": "execute_result"
    }
   ],
   "source": [
    "import texthero as hero\n",
    "sample = {'My hair is ruining my life!!!!!!','I dont know whats wrong with me. My emotions fluctuate all the time. I want to see the light at the end of the tunnel','I feel frantic all the time','Nothing makes me happy anymore. Cannot find comfort in anything i do.','I dont think drugs are a good idea to solve problems. I do occasionally drink but its not a problem. Its just to relax and have a good time','I have always been encouraged to pursue what i like and its always made me feel content and happy','My family is very supportive but despite that i lack motivation and that makes me feel low. Sometimes i feel like i should end it all','i dont stress about it a lot','i was feeling low and listening to sad songs made me more depressed i started thinking that i am worth nothing','i am very happy about it'}\n",
    "\n",
    "import pandas as pd\n",
    "df = pd.DataFrame(sample, columns = ['sample'])\n",
    "df['clean_data'] = hero.clean(df['sample'])\n",
    "sample_sent = df['clean_data'].tolist() \n",
    "\n",
    "from sentence_transformers import SentenceTransformer\n",
    "model = SentenceTransformer('paraphrase-MiniLM-L6-v2')\n",
    "samp_embeddings = model.encode(sample_sent)\n",
    "df"
   ]
  },
  {
   "cell_type": "code",
   "execution_count": 10,
   "metadata": {},
   "outputs": [],
   "source": [
    "predicted_value = svm_classifier.predict(samp_embeddings[1].reshape(1,-1))"
   ]
  },
  {
   "cell_type": "code",
   "execution_count": 11,
   "metadata": {},
   "outputs": [
    {
     "name": "stdout",
     "output_type": "stream",
     "text": [
      "Answer is Normal\n"
     ]
    }
   ],
   "source": [
    "if predicted_value[0] == 0:\n",
    "    print('Answer is Normal')\n",
    "else:\n",
    "    print('Answer shows Depression')"
   ]
  },
  {
   "cell_type": "code",
   "execution_count": 9,
   "metadata": {},
   "outputs": [
    {
     "data": {
      "text/plain": [
       "array([0])"
      ]
     },
     "execution_count": 9,
     "metadata": {},
     "output_type": "execute_result"
    }
   ],
   "source": [
    "predicted_value"
   ]
  },
  {
   "cell_type": "code",
   "execution_count": 17,
   "metadata": {},
   "outputs": [],
   "source": [
    "predictions = []\n",
    "for val in range(0,len(samp_embeddings)):\n",
    "    predicted_value = svm_classifier.predict(samp_embeddings[val].reshape(1,-1))\n",
    "    predictions.append(predicted_value)"
   ]
  },
  {
   "cell_type": "code",
   "execution_count": 22,
   "metadata": {},
   "outputs": [
    {
     "data": {
      "text/plain": [
       "[array([1]),\n",
       " array([1]),\n",
       " array([0]),\n",
       " array([0]),\n",
       " array([0]),\n",
       " array([0]),\n",
       " array([0]),\n",
       " array([1]),\n",
       " array([0]),\n",
       " array([1])]"
      ]
     },
     "execution_count": 22,
     "metadata": {},
     "output_type": "execute_result"
    }
   ],
   "source": [
    "predictions"
   ]
  },
  {
   "cell_type": "code",
   "execution_count": 20,
   "metadata": {},
   "outputs": [],
   "source": [
    "depress = 0\n",
    "normal = 0\n",
    "for val in range(0,len(samp_embeddings)):\n",
    "    if predictions[val] == 0:\n",
    "        normal+=1\n",
    "    else:\n",
    "        depress+=1"
   ]
  },
  {
   "cell_type": "code",
   "execution_count": 21,
   "metadata": {},
   "outputs": [
    {
     "data": {
      "text/plain": [
       "6"
      ]
     },
     "execution_count": 21,
     "metadata": {},
     "output_type": "execute_result"
    }
   ],
   "source": [
    "normal"
   ]
  },
  {
   "cell_type": "code",
   "execution_count": 26,
   "metadata": {},
   "outputs": [
    {
     "data": {
      "text/plain": [
       "{'I dont know whats wrong with me. My emotions fluctuate all the time. I want to see the light at the end of the tunnel',\n",
       " 'I dont think drugs are a good idea to solve problems. I do occasionally drink but its not a problem. Its just to relax and have a good time',\n",
       " 'I feel frantic all the time',\n",
       " 'I have always been encouraged to pursue what i like and its always made me feel content and happy',\n",
       " 'My family is very supportive but despite that i lack motivation and that makes me feel low. Sometimes i feel like i should end it all',\n",
       " 'My hair is ruining my life!!!!!!',\n",
       " 'Nothing makes me happy anymore. Cannot find comfort in anything i do.',\n",
       " 'i am very happy about it',\n",
       " 'i dont stress about it a lot',\n",
       " 'i was feeling low and listening to sad songs made me more depressed i started thinking that i am worth nothing'}"
      ]
     },
     "execution_count": 26,
     "metadata": {},
     "output_type": "execute_result"
    }
   ],
   "source": [
    "sample"
   ]
  },
  {
   "cell_type": "code",
   "execution_count": 25,
   "metadata": {},
   "outputs": [],
   "source": [
    "def get_preds(answers):\n",
    "    df = pd.DataFrame(answers, columns = ['sample'])\n",
    "    df['clean_data'] = hero.clean(df['sample'])\n",
    "    sample_sent = df['clean_data'].tolist() \n",
    "    model = SentenceTransformer('paraphrase-MiniLM-L6-v2')\n",
    "    samp_embeddings = model.encode(sample_sent)\n",
    "    predictions = []\n",
    "    for val in range(0,len(samp_embeddings)):\n",
    "        predicted_value = svm_classifier.predict(samp_embeddings[val].reshape(1,-1))\n",
    "        predictions.append(predicted_value)\n",
    "    depress = 0\n",
    "    normal = 0\n",
    "    for val in range(0,len(samp_embeddings)):\n",
    "        if predictions[val] == 0:\n",
    "            normal+=1\n",
    "        else:\n",
    "            depress+=1\n",
    "    return depress,normal"
   ]
  },
  {
   "cell_type": "code",
   "execution_count": 27,
   "metadata": {},
   "outputs": [],
   "source": [
    "a,b = get_preds(sample)"
   ]
  },
  {
   "cell_type": "code",
   "execution_count": 28,
   "metadata": {},
   "outputs": [
    {
     "data": {
      "text/plain": [
       "4"
      ]
     },
     "execution_count": 28,
     "metadata": {},
     "output_type": "execute_result"
    }
   ],
   "source": [
    "a"
   ]
  },
  {
   "cell_type": "code",
   "execution_count": 29,
   "metadata": {},
   "outputs": [
    {
     "data": {
      "text/plain": [
       "6"
      ]
     },
     "execution_count": 29,
     "metadata": {},
     "output_type": "execute_result"
    }
   ],
   "source": [
    "b"
   ]
  },
  {
   "cell_type": "code",
   "execution_count": 2,
   "metadata": {},
   "outputs": [],
   "source": [
    "import numpy as np\n",
    "embeddings = np.load('newembeddings.npz')"
   ]
  },
  {
   "cell_type": "code",
   "execution_count": 3,
   "metadata": {},
   "outputs": [],
   "source": [
    "embedds=embeddings['arr_0']"
   ]
  },
  {
   "cell_type": "code",
   "execution_count": 5,
   "metadata": {},
   "outputs": [
    {
     "data": {
      "text/plain": [
       "{'Normal': 0, 'depression': 1}"
      ]
     },
     "execution_count": 5,
     "metadata": {},
     "output_type": "execute_result"
    }
   ],
   "source": [
    "import pandas as pd\n",
    "text_data = pd.read_csv('D:/Sem 8/END SEM PROJECT/mixed_data.csv',encoding = \"ISO-8859-1\")\n",
    "text_data\n",
    "y = np.asarray(text_data['Marker'])\n",
    "label_map = {cat:index for index,cat in enumerate(np.unique(y))}\n",
    "y_prep = np.asarray([label_map[l] for l in y])\n",
    "\n",
    "label_map"
   ]
  },
  {
   "cell_type": "code",
   "execution_count": 6,
   "metadata": {},
   "outputs": [
    {
     "name": "stdout",
     "output_type": "stream",
     "text": [
      "(153795, 384)\n",
      "(38449, 384)\n",
      "(153795,)\n",
      "(38449,)\n"
     ]
    }
   ],
   "source": [
    "import numpy as np\n",
    "import pandas as pd\n",
    "import gensim\n",
    "import nltk\n",
    "import re\n",
    "from sklearn.model_selection import train_test_split\n",
    "from sklearn.svm import SVC\n",
    "x_train,x_test,y_train,y_test = train_test_split(embedds,y_prep,test_size=0.2,random_state=42)\n",
    "print(x_train.shape)\n",
    "print(x_test.shape)\n",
    "print(y_train.shape)\n",
    "print(y_test.shape)"
   ]
  },
  {
   "cell_type": "code",
   "execution_count": 7,
   "metadata": {},
   "outputs": [
    {
     "data": {
      "text/plain": [
       "0.9876979895445915"
      ]
     },
     "execution_count": 7,
     "metadata": {},
     "output_type": "execute_result"
    }
   ],
   "source": [
    "svm_classifier.score(x_test,y_test)"
   ]
  },
  {
   "cell_type": "code",
   "execution_count": 9,
   "metadata": {},
   "outputs": [
    {
     "data": {
      "image/png": "[encoded data removed]",
      "text/plain": [
       "<Figure size 432x288 with 2 Axes>"
      ]
     },
     "metadata": {
      "needs_background": "light"
     },
     "output_type": "display_data"
    }
   ],
   "source": [
    "from sklearn import svm\n",
    "from sklearn.metrics import plot_confusion_matrix\n",
    "from mlxtend.plotting import plot_decision_regions\n",
    "import matplotlib.pyplot as plt\n",
    "matrix = plot_confusion_matrix(svm_classifier, x_test, y_test,\n",
    "                                 cmap=plt.cm.Blues,\n",
    "                                 normalize='true')\n",
    "plt.title('Confusion matrix for our classifier')\n",
    "plt.show(matrix)\n",
    "plt.show()"
   ]
  },
  {
   "cell_type": "code",
   "execution_count": 14,
   "metadata": {},
   "outputs": [
    {
     "data": {
      "image/png": "[encoded data removed]",
      "text/plain": [
       "<Figure size 432x288 with 1 Axes>"
      ]
     },
     "metadata": {
      "needs_background": "light"
     },
     "output_type": "display_data"
    },
    {
     "ename": "ValueError",
     "evalue": "Filler values must be provided when X has more than 2 training features.",
     "output_type": "error",
     "traceback": [
      "\u001b[1;31m---------------------------------------------------------------------------\u001b[0m",
      "\u001b[1;31mValueError\u001b[0m                                Traceback (most recent call last)",
      "\u001b[1;32m<ipython-input-14-091c4363f5e0>\u001b[0m in \u001b[0;36m<module>\u001b[1;34m()\u001b[0m\n\u001b[0;32m     10\u001b[0m \u001b[1;33m\u001b[0m\u001b[0m\n\u001b[0;32m     11\u001b[0m \u001b[1;31m# Plot decision boundary\u001b[0m\u001b[1;33m\u001b[0m\u001b[1;33m\u001b[0m\u001b[1;33m\u001b[0m\u001b[0m\n\u001b[1;32m---> 12\u001b[1;33m \u001b[0mplot_decision_regions\u001b[0m\u001b[1;33m(\u001b[0m\u001b[0mx_test\u001b[0m\u001b[1;33m,\u001b[0m \u001b[0my_test\u001b[0m\u001b[1;33m,\u001b[0m \u001b[0mclf\u001b[0m\u001b[1;33m=\u001b[0m\u001b[0msvm_classifier\u001b[0m\u001b[1;33m,\u001b[0m \u001b[0mlegend\u001b[0m\u001b[1;33m=\u001b[0m\u001b[1;36m2\u001b[0m\u001b[1;33m)\u001b[0m\u001b[1;33m\u001b[0m\u001b[1;33m\u001b[0m\u001b[0m\n\u001b[0m\u001b[0;32m     13\u001b[0m \u001b[0mplt\u001b[0m\u001b[1;33m.\u001b[0m\u001b[0mshow\u001b[0m\u001b[1;33m(\u001b[0m\u001b[1;33m)\u001b[0m\u001b[1;33m\u001b[0m\u001b[1;33m\u001b[0m\u001b[0m\n",
      "\u001b[1;32mc:\\users\\sanchit\\anaconda3\\lib\\site-packages\\mlxtend\\plotting\\decision_regions.py\u001b[0m in \u001b[0;36mplot_decision_regions\u001b[1;34m(X, y, clf, feature_index, filler_feature_values, filler_feature_ranges, ax, X_highlight, zoom_factor, legend, hide_spines, markers, colors, scatter_kwargs, contourf_kwargs, scatter_highlight_kwargs)\u001b[0m\n\u001b[0;32m    175\u001b[0m     \u001b[1;32mif\u001b[0m \u001b[0mdim\u001b[0m \u001b[1;33m>\u001b[0m \u001b[1;36m2\u001b[0m\u001b[1;33m:\u001b[0m\u001b[1;33m\u001b[0m\u001b[1;33m\u001b[0m\u001b[0m\n\u001b[0;32m    176\u001b[0m         \u001b[1;32mif\u001b[0m \u001b[0mfiller_feature_values\u001b[0m \u001b[1;32mis\u001b[0m \u001b[1;32mNone\u001b[0m\u001b[1;33m:\u001b[0m\u001b[1;33m\u001b[0m\u001b[1;33m\u001b[0m\u001b[0m\n\u001b[1;32m--> 177\u001b[1;33m             raise ValueError('Filler values must be provided when '\n\u001b[0m\u001b[0;32m    178\u001b[0m                              'X has more than 2 training features.')\n\u001b[0;32m    179\u001b[0m \u001b[1;33m\u001b[0m\u001b[0m\n",
      "\u001b[1;31mValueError\u001b[0m: Filler values must be provided when X has more than 2 training features."
     ]
    },
    {
     "data": {
      "image/png": "[encoded data removed]",
      "text/plain": [
       "<Figure size 432x288 with 1 Axes>"
      ]
     },
     "metadata": {
      "needs_background": "light"
     },
     "output_type": "display_data"
    }
   ],
   "source": [
    "support_vectors = svm_classifier.support_vectors_\n",
    "\n",
    "# Visualize support vectors\n",
    "plt.scatter(x_train[:,0], x_train[:,1])\n",
    "plt.scatter(support_vectors[:,0], support_vectors[:,1], color='red')\n",
    "plt.title('Linearly separable data with support vectors')\n",
    "plt.xlabel('X1')\n",
    "plt.ylabel('X2')\n",
    "plt.show()\n",
    "\n",
    "# Plot decision boundary\n",
    "plot_decision_regions(x_test, y_test, clf=svm_classifier,   filler_feature_values={2: value, 3:value, 4:value},\n",
    "                  filler_feature_ranges={2: width, 3: width, 4:width}, legend=2)\n",
    "plt.show()"
   ]
  },
  {
   "cell_type": "code",
   "execution_count": 10,
   "metadata": {},
   "outputs": [
    {
     "data": {
      "image/png": "[encoded data removed]",
      "text/plain": [
       "<Figure size 432x288 with 1 Axes>"
      ]
     },
     "metadata": {
      "needs_background": "light"
     },
     "output_type": "display_data"
    }
   ],
   "source": [
    "plt.scatter(x_train[:,0], x_train[:,1])\n",
    "plt.title('Linearly separable data')\n",
    "plt.xlabel('X1')\n",
    "plt.ylabel('X2')\n",
    "plt.show()"
   ]
  },
  {
   "cell_type": "code",
   "execution_count": 38,
   "metadata": {},
   "outputs": [
    {
     "data": {
      "text/html": [
       "<div>\n",
       "<style scoped>\n",
       "    .dataframe tbody tr th:only-of-type {\n",
       "        vertical-align: middle;\n",
       "    }\n",
       "\n",
       "    .dataframe tbody tr th {\n",
       "        vertical-align: top;\n",
       "    }\n",
       "\n",
       "    .dataframe thead th {\n",
       "        text-align: right;\n",
       "    }\n",
       "</style>\n",
       "<table border=\"1\" class=\"dataframe\">\n",
       "  <thead>\n",
       "    <tr style=\"text-align: right;\">\n",
       "      <th></th>\n",
       "      <th>sample</th>\n",
       "      <th>clean_data</th>\n",
       "    </tr>\n",
       "  </thead>\n",
       "  <tbody>\n",
       "    <tr>\n",
       "      <th>0</th>\n",
       "      <td>I do think about death a lot and sometimes i j...</td>\n",
       "      <td>think death lot sometimes think everything wou...</td>\n",
       "    </tr>\n",
       "    <tr>\n",
       "      <th>1</th>\n",
       "      <td>I have a weak focus because of which it also a...</td>\n",
       "      <td>weak focus also affects professional life</td>\n",
       "    </tr>\n",
       "    <tr>\n",
       "      <th>2</th>\n",
       "      <td>it was really depressing. There was another fi...</td>\n",
       "      <td>really depressing another fight home incidents...</td>\n",
       "    </tr>\n",
       "    <tr>\n",
       "      <th>3</th>\n",
       "      <td>I am constantly living in the past or worried ...</td>\n",
       "      <td>constantly living past worried future</td>\n",
       "    </tr>\n",
       "    <tr>\n",
       "      <th>4</th>\n",
       "      <td>I am feeling good.</td>\n",
       "      <td>feeling good</td>\n",
       "    </tr>\n",
       "    <tr>\n",
       "      <th>5</th>\n",
       "      <td>I like sad and goory songs.</td>\n",
       "      <td>like sad goory songs</td>\n",
       "    </tr>\n",
       "    <tr>\n",
       "      <th>6</th>\n",
       "      <td>I think it only happens to me that some proble...</td>\n",
       "      <td>think happens problem suddenly arises face alo...</td>\n",
       "    </tr>\n",
       "    <tr>\n",
       "      <th>7</th>\n",
       "      <td>I usually do know the reason for my behavior b...</td>\n",
       "      <td>usually know reason behavior also justify sad ...</td>\n",
       "    </tr>\n",
       "    <tr>\n",
       "      <th>8</th>\n",
       "      <td>I used to do a lot of activities. I used to ha...</td>\n",
       "      <td>used lot activities used lot hobbies time left...</td>\n",
       "    </tr>\n",
       "    <tr>\n",
       "      <th>9</th>\n",
       "      <td>I have never liked drugs and dont likt the ide...</td>\n",
       "      <td>never liked drugs dont likt idea heard soothe ...</td>\n",
       "    </tr>\n",
       "  </tbody>\n",
       "</table>\n",
       "</div>"
      ],
      "text/plain": [
       "                                              sample  \\\n",
       "0  I do think about death a lot and sometimes i j...   \n",
       "1  I have a weak focus because of which it also a...   \n",
       "2  it was really depressing. There was another fi...   \n",
       "3  I am constantly living in the past or worried ...   \n",
       "4                                 I am feeling good.   \n",
       "5                        I like sad and goory songs.   \n",
       "6  I think it only happens to me that some proble...   \n",
       "7  I usually do know the reason for my behavior b...   \n",
       "8  I used to do a lot of activities. I used to ha...   \n",
       "9  I have never liked drugs and dont likt the ide...   \n",
       "\n",
       "                                          clean_data  \n",
       "0  think death lot sometimes think everything wou...  \n",
       "1          weak focus also affects professional life  \n",
       "2  really depressing another fight home incidents...  \n",
       "3              constantly living past worried future  \n",
       "4                                       feeling good  \n",
       "5                               like sad goory songs  \n",
       "6  think happens problem suddenly arises face alo...  \n",
       "7  usually know reason behavior also justify sad ...  \n",
       "8  used lot activities used lot hobbies time left...  \n",
       "9  never liked drugs dont likt idea heard soothe ...  "
      ]
     },
     "execution_count": 38,
     "metadata": {},
     "output_type": "execute_result"
    }
   ],
   "source": [
    "import texthero as hero\n",
    "sample = {'I am feeling good.','it was really depressing. There was another fight at home and other incidents. I cannot take it anymore.','I have never liked drugs and dont likt the idea of them. But i have heard that they soothe pain so if it helps i might try them to feel better.','I like sad and goory songs.',\n",
    "          'I think it only happens to me that some problem suddenly arises and i have to face it alone. I freak out and panic.','I am constantly living in the past or worried about the future.',\n",
    "          'I usually do know the reason for my behavior but also justify it. When i am sad usually wrong thoughts come to my mind','I have a weak focus because of which it also affects my professional life.','I used to do a lot of activities. I used to have a lot of hobbies but with time all that is left behind me. I am just not motivated enough to pick up activities.','I do think about death a lot and sometimes i just think that everything would be better if i just end it all.'}\n",
    "\n",
    "import pandas as pd\n",
    "df = pd.DataFrame(sample, columns = ['sample'])\n",
    "df['clean_data'] = hero.clean(df['sample'])\n",
    "sample_sent = df['clean_data'].tolist() \n",
    "\n",
    "from sentence_transformers import SentenceTransformer\n",
    "model = SentenceTransformer('paraphrase-MiniLM-L6-v2')\n",
    "samp_embeddings = model.encode(sample_sent)\n",
    "df"
   ]
  },
  {
   "cell_type": "code",
   "execution_count": 64,
   "metadata": {},
   "outputs": [],
   "source": [
    "predicted_value = svm_classifier.predict(samp_embeddings[8].reshape(1,-1))"
   ]
  },
  {
   "cell_type": "code",
   "execution_count": 65,
   "metadata": {},
   "outputs": [
    {
     "name": "stdout",
     "output_type": "stream",
     "text": [
      "Answer is Normal\n"
     ]
    }
   ],
   "source": [
    "if predicted_value[0] == 0:\n",
    "    print('Answer is Normal')\n",
    "else:\n",
    "    print('Answer shows Depression')"
   ]
  },
  {
   "cell_type": "code",
   "execution_count": 41,
   "metadata": {},
   "outputs": [],
   "source": [
    "def get_preds(answers):\n",
    "    svm_classifier = pickle.load(open('depression_model.sav', 'rb'))\n",
    "    df = pd.DataFrame(answers, columns = ['sample'])\n",
    "    df['clean_data'] = hero.clean(df['sample'])\n",
    "    sample_sent = df['clean_data'].tolist() \n",
    "    model = SentenceTransformer('paraphrase-MiniLM-L6-v2')\n",
    "    samp_embeddings = model.encode(sample_sent)\n",
    "    predictions = []\n",
    "    for val in range(0,len(samp_embeddings)):\n",
    "        predicted_value = svm_classifier.predict(samp_embeddings[val].reshape(1,-1))\n",
    "        predictions.append(predicted_value)\n",
    "    depress = 0\n",
    "    normal = 0\n",
    "    for val in range(0,len(samp_embeddings)):\n",
    "        if predictions[val] == 0:\n",
    "            normal+=1\n",
    "        else:\n",
    "            depress+=1\n",
    "    return depress,normal"
   ]
  },
  {
   "cell_type": "code",
   "execution_count": 42,
   "metadata": {},
   "outputs": [],
   "source": [
    "depress,normal =  get_preds(sample)"
   ]
  },
  {
   "cell_type": "code",
   "execution_count": 43,
   "metadata": {},
   "outputs": [
    {
     "data": {
      "text/plain": [
       "6"
      ]
     },
     "execution_count": 43,
     "metadata": {},
     "output_type": "execute_result"
    }
   ],
   "source": [
    "depress"
   ]
  },
  {
   "cell_type": "code",
   "execution_count": 66,
   "metadata": {},
   "outputs": [],
   "source": [
    "sample1 = ['I feel a sense of contentment in myself.',\n",
    "\n",
    "'It has been a hectic month. I had to face a lot of issues in my professional and personal life but i pulled through. I am fine now.',\n",
    "\n",
    "'I dont think drugs are a good idea to solve problems. I do occasionally drink but its not a problem.',\n",
    "\n",
    "'I like pop music it cheers me up.',\n",
    "\n",
    "'I try to assess the problem and find a solution for it. Being calm has always helped me to easily try to find answers.',\n",
    "\n",
    "'I do think about the past but I like to live in the present. It helps me to concentrate and focus on myself.',\n",
    "\n",
    "'I dont let situations affect my mood. I do know whats the reason behind my mood but i always try to stay calm and not let situations define me.',\n",
    "\n",
    "'I barely get distracted easily. So I have good hold on my focus.',\n",
    "\n",
    "'I do like to pursue my hobbies. It helps me uplift my mood and sets perspective straight.',\n",
    "\n",
    "'I have not thought about suicide or death explicitly.']"
   ]
  },
  {
   "cell_type": "code",
   "execution_count": null,
   "metadata": {},
   "outputs": [],
   "source": []
  }
 ],
 "metadata": {
  "kernelspec": {
   "display_name": "Python 3",
   "language": "python",
   "name": "python3"
  },
  "language_info": {
   "codemirror_mode": {
    "name": "ipython",
    "version": 3
   },
   "file_extension": ".py",
   "mimetype": "text/x-python",
   "name": "python",
   "nbconvert_exporter": "python",
   "pygments_lexer": "ipython3",
   "version": "3.7.6"
  }
 },
 "nbformat": 4,
 "nbformat_minor": 4
}
