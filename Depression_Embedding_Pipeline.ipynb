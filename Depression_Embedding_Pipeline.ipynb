{
 "cells": [
  {
   "cell_type": "code",
   "execution_count": 3,
   "metadata": {},
   "outputs": [
    {
     "data": {
      "text/html": [
       "<div>\n",
       "<style scoped>\n",
       "    .dataframe tbody tr th:only-of-type {\n",
       "        vertical-align: middle;\n",
       "    }\n",
       "\n",
       "    .dataframe tbody tr th {\n",
       "        vertical-align: top;\n",
       "    }\n",
       "\n",
       "    .dataframe thead th {\n",
       "        text-align: right;\n",
       "    }\n",
       "</style>\n",
       "<table border=\"1\" class=\"dataframe\">\n",
       "  <thead>\n",
       "    <tr style=\"text-align: right;\">\n",
       "      <th></th>\n",
       "      <th>Marker</th>\n",
       "      <th>Posts</th>\n",
       "    </tr>\n",
       "  </thead>\n",
       "  <tbody>\n",
       "    <tr>\n",
       "      <th>0</th>\n",
       "      <td>depression</td>\n",
       "      <td>My birthday is tomorrow. Yes, I will be turnin...</td>\n",
       "    </tr>\n",
       "    <tr>\n",
       "      <th>1</th>\n",
       "      <td>depression</td>\n",
       "      <td>Iâm so fucking lonely. I  know most of this ...</td>\n",
       "    </tr>\n",
       "    <tr>\n",
       "      <th>2</th>\n",
       "      <td>depression</td>\n",
       "      <td>I feel like Iâm losing my friends Hi.....Iâ...</td>\n",
       "    </tr>\n",
       "    <tr>\n",
       "      <th>3</th>\n",
       "      <td>Normal</td>\n",
       "      <td>this is smack ONE OF THE BEST TRANCE SONGS IN ...</td>\n",
       "    </tr>\n",
       "    <tr>\n",
       "      <th>4</th>\n",
       "      <td>depression</td>\n",
       "      <td>My boyfriend is controlling me even though he ...</td>\n",
       "    </tr>\n",
       "    <tr>\n",
       "      <th>...</th>\n",
       "      <td>...</td>\n",
       "      <td>...</td>\n",
       "    </tr>\n",
       "    <tr>\n",
       "      <th>192239</th>\n",
       "      <td>depression</td>\n",
       "      <td>Is there a problem that is objectively too sma...</td>\n",
       "    </tr>\n",
       "    <tr>\n",
       "      <th>192240</th>\n",
       "      <td>Normal</td>\n",
       "      <td>nah, a nice big bagel! Too early for burgers!</td>\n",
       "    </tr>\n",
       "    <tr>\n",
       "      <th>192241</th>\n",
       "      <td>Normal</td>\n",
       "      <td>oh oh found some clothes!! And i love em xD</td>\n",
       "    </tr>\n",
       "    <tr>\n",
       "      <th>192242</th>\n",
       "      <td>Normal</td>\n",
       "      <td>it's an awesome movie</td>\n",
       "    </tr>\n",
       "    <tr>\n",
       "      <th>192243</th>\n",
       "      <td>depression</td>\n",
       "      <td>I just want to end it all I fucking hate my li...</td>\n",
       "    </tr>\n",
       "  </tbody>\n",
       "</table>\n",
       "<p>192244 rows × 2 columns</p>\n",
       "</div>"
      ],
      "text/plain": [
       "            Marker                                              Posts\n",
       "0       depression  My birthday is tomorrow. Yes, I will be turnin...\n",
       "1       depression  Iâm so fucking lonely. I  know most of this ...\n",
       "2       depression  I feel like Iâm losing my friends Hi.....Iâ...\n",
       "3           Normal  this is smack ONE OF THE BEST TRANCE SONGS IN ...\n",
       "4       depression  My boyfriend is controlling me even though he ...\n",
       "...            ...                                                ...\n",
       "192239  depression  Is there a problem that is objectively too sma...\n",
       "192240      Normal      nah, a nice big bagel! Too early for burgers!\n",
       "192241      Normal        oh oh found some clothes!! And i love em xD\n",
       "192242      Normal                              it's an awesome movie\n",
       "192243  depression  I just want to end it all I fucking hate my li...\n",
       "\n",
       "[192244 rows x 2 columns]"
      ]
     },
     "execution_count": 3,
     "metadata": {},
     "output_type": "execute_result"
    }
   ],
   "source": [
    "import pandas as pd\n",
    "text_data = pd.read_csv('D:/Sem 8/END SEM PROJECT/mixed_data.csv',encoding = \"ISO-8859-1\")\n",
    "text_data"
   ]
  },
  {
   "cell_type": "code",
   "execution_count": 4,
   "metadata": {},
   "outputs": [
    {
     "data": {
      "text/html": [
       "<div>\n",
       "<style scoped>\n",
       "    .dataframe tbody tr th:only-of-type {\n",
       "        vertical-align: middle;\n",
       "    }\n",
       "\n",
       "    .dataframe tbody tr th {\n",
       "        vertical-align: top;\n",
       "    }\n",
       "\n",
       "    .dataframe thead th {\n",
       "        text-align: right;\n",
       "    }\n",
       "</style>\n",
       "<table border=\"1\" class=\"dataframe\">\n",
       "  <thead>\n",
       "    <tr style=\"text-align: right;\">\n",
       "      <th></th>\n",
       "      <th>Marker</th>\n",
       "      <th>Posts</th>\n",
       "      <th>clean_data</th>\n",
       "    </tr>\n",
       "  </thead>\n",
       "  <tbody>\n",
       "    <tr>\n",
       "      <th>0</th>\n",
       "      <td>depression</td>\n",
       "      <td>My birthday is tomorrow. Yes, I will be turnin...</td>\n",
       "      <td>birthday tomorrow yes turning excited looking ...</td>\n",
       "    </tr>\n",
       "    <tr>\n",
       "      <th>1</th>\n",
       "      <td>depression</td>\n",
       "      <td>Iâm so fucking lonely. I  know most of this ...</td>\n",
       "      <td>iam fucking lonely know probably sound like ma...</td>\n",
       "    </tr>\n",
       "    <tr>\n",
       "      <th>2</th>\n",
       "      <td>depression</td>\n",
       "      <td>I feel like Iâm losing my friends Hi.....Iâ...</td>\n",
       "      <td>feel like iam losing friends hi iam new wanted...</td>\n",
       "    </tr>\n",
       "    <tr>\n",
       "      <th>3</th>\n",
       "      <td>Normal</td>\n",
       "      <td>this is smack ONE OF THE BEST TRANCE SONGS IN ...</td>\n",
       "      <td>smack one best trance songs world</td>\n",
       "    </tr>\n",
       "    <tr>\n",
       "      <th>4</th>\n",
       "      <td>depression</td>\n",
       "      <td>My boyfriend is controlling me even though he ...</td>\n",
       "      <td>boyfriend controlling even though nicest perso...</td>\n",
       "    </tr>\n",
       "    <tr>\n",
       "      <th>...</th>\n",
       "      <td>...</td>\n",
       "      <td>...</td>\n",
       "      <td>...</td>\n",
       "    </tr>\n",
       "    <tr>\n",
       "      <th>192239</th>\n",
       "      <td>depression</td>\n",
       "      <td>Is there a problem that is objectively too sma...</td>\n",
       "      <td>problem objectively small known depression kno...</td>\n",
       "    </tr>\n",
       "    <tr>\n",
       "      <th>192240</th>\n",
       "      <td>Normal</td>\n",
       "      <td>nah, a nice big bagel! Too early for burgers!</td>\n",
       "      <td>nah nice big bagel early burgers</td>\n",
       "    </tr>\n",
       "    <tr>\n",
       "      <th>192241</th>\n",
       "      <td>Normal</td>\n",
       "      <td>oh oh found some clothes!! And i love em xD</td>\n",
       "      <td>oh oh found clothes love em xd</td>\n",
       "    </tr>\n",
       "    <tr>\n",
       "      <th>192242</th>\n",
       "      <td>Normal</td>\n",
       "      <td>it's an awesome movie</td>\n",
       "      <td>awesome movie</td>\n",
       "    </tr>\n",
       "    <tr>\n",
       "      <th>192243</th>\n",
       "      <td>depression</td>\n",
       "      <td>I just want to end it all I fucking hate my li...</td>\n",
       "      <td>want end fucking hate life friends stop talkin...</td>\n",
       "    </tr>\n",
       "  </tbody>\n",
       "</table>\n",
       "<p>192244 rows × 3 columns</p>\n",
       "</div>"
      ],
      "text/plain": [
       "            Marker                                              Posts  \\\n",
       "0       depression  My birthday is tomorrow. Yes, I will be turnin...   \n",
       "1       depression  Iâm so fucking lonely. I  know most of this ...   \n",
       "2       depression  I feel like Iâm losing my friends Hi.....Iâ...   \n",
       "3           Normal  this is smack ONE OF THE BEST TRANCE SONGS IN ...   \n",
       "4       depression  My boyfriend is controlling me even though he ...   \n",
       "...            ...                                                ...   \n",
       "192239  depression  Is there a problem that is objectively too sma...   \n",
       "192240      Normal      nah, a nice big bagel! Too early for burgers!   \n",
       "192241      Normal        oh oh found some clothes!! And i love em xD   \n",
       "192242      Normal                              it's an awesome movie   \n",
       "192243  depression  I just want to end it all I fucking hate my li...   \n",
       "\n",
       "                                               clean_data  \n",
       "0       birthday tomorrow yes turning excited looking ...  \n",
       "1       iam fucking lonely know probably sound like ma...  \n",
       "2       feel like iam losing friends hi iam new wanted...  \n",
       "3                       smack one best trance songs world  \n",
       "4       boyfriend controlling even though nicest perso...  \n",
       "...                                                   ...  \n",
       "192239  problem objectively small known depression kno...  \n",
       "192240                   nah nice big bagel early burgers  \n",
       "192241                     oh oh found clothes love em xd  \n",
       "192242                                      awesome movie  \n",
       "192243  want end fucking hate life friends stop talkin...  \n",
       "\n",
       "[192244 rows x 3 columns]"
      ]
     },
     "execution_count": 4,
     "metadata": {},
     "output_type": "execute_result"
    }
   ],
   "source": [
    "import texthero as hero\n",
    "text_data['clean_data'] = hero.clean(text_data['Posts'])\n",
    "text_data"
   ]
  },
  {
   "cell_type": "code",
   "execution_count": 6,
   "metadata": {},
   "outputs": [],
   "source": [
    "from sentence_transformers import SentenceTransformer\n",
    "\n",
    "model = SentenceTransformer('paraphrase-MiniLM-L6-v2')\n",
    "sentences = text_data['clean_data'].tolist() \n",
    "\n",
    "#Sentences are encoded by calling model.encode()\n",
    "embeddings = model.encode(sentences)"
   ]
  },
  {
   "cell_type": "code",
   "execution_count": null,
   "metadata": {},
   "outputs": [],
   "source": [
    "import numpy as np\n",
    "np.savez('newembeddings.npz', embeddings)"
   ]
  },
  {
   "cell_type": "code",
   "execution_count": 9,
   "metadata": {},
   "outputs": [
    {
     "data": {
      "text/plain": [
       "(192244, 384)"
      ]
     },
     "execution_count": 9,
     "metadata": {},
     "output_type": "execute_result"
    }
   ],
   "source": [
    "embeddings.shape"
   ]
  },
  {
   "cell_type": "code",
   "execution_count": null,
   "metadata": {},
   "outputs": [],
   "source": [
    "embeddings"
   ]
  },
  {
   "cell_type": "code",
   "execution_count": 5,
   "metadata": {},
   "outputs": [],
   "source": [
    "import numpy as np\n",
    "embeddings = np.load('newembeddings.npz')"
   ]
  },
  {
   "cell_type": "code",
   "execution_count": 6,
   "metadata": {},
   "outputs": [],
   "source": [
    "embedds=embeddings['arr_0']"
   ]
  }
 ],
 "metadata": {
  "kernelspec": {
   "display_name": "Python 3",
   "language": "python",
   "name": "python3"
  },
  "language_info": {
   "codemirror_mode": {
    "name": "ipython",
    "version": 3
   },
   "file_extension": ".py",
   "mimetype": "text/x-python",
   "name": "python",
   "nbconvert_exporter": "python",
   "pygments_lexer": "ipython3",
   "version": "3.7.6"
  }
 },
 "nbformat": 4,
 "nbformat_minor": 4
}
